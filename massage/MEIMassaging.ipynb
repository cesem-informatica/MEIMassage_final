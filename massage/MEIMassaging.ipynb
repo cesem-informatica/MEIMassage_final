{
 "cells": [
  {
   "attachments": {
    "image.png": {
     "image/png": "[encoded data removed]"
    }
   },
   "cell_type": "markdown",
   "id": "7e232de9",
   "metadata": {},
   "source": [
    "# MEIMassaging\n",
    "\n",
    "Este **Jupyter Notebook** permite \"massajar\" um ficheiro MEI.\n",
    "Os Notebooks estão divididos em blocos, sejam de texto estático (como este) ou de código, que pode ser executado premindo `Shift + Enter` ou clicando na `Seta/Run` no topo do Notebook.\n",
    "\n",
    "## Como utilizar\n",
    "\n",
    "Primeiro é necessário fazer upload do ficheiro MEI. Para tal, clique no boão de **upload** no topo da barra lateral esquerda, e selecione o seu ficheiro.\n",
    "\n",
    "![image.png](attachment:image.png)\n",
    "\n",
    "Após fazer upload do ficheiro, vamos inserir o nome do ficheiro de input - ou seja, o nome do ficheiro que fez upload (exemplo: ficheiro_input.mei), *com a extensão **.mei** * - e o nome para o ficheiro de output (exemplo: ficheiro_output.mei) no *input* abaixo. Necesssita de correr o seguinte bloco de código, inserindo o nome e pressionar `Enter`."
   ]
  },
  {
   "cell_type": "code",
   "execution_count": 4,
   "id": "ba61e380",
   "metadata": {},
   "outputs": [
    {
     "name": "stdout",
     "output_type": "stream",
     "text": [
      "Insira o nome do ficheiro de input:input.meu\n",
      "Insira o nome do ficheiro de output:input.out\n",
      "O ficheiro de input é \"input.meu\" e o de output é \"input.out\"\n"
     ]
    }
   ],
   "source": [
    "filename_in = input('Insira o nome do ficheiro de input:')\n",
    "filename_out = input('Insira o nome do ficheiro de output:')\n",
    "\n",
    "print(f'O ficheiro de input é \"{filename_in}\" e o de output é \"{filename_out}\"')"
   ]
  },
  {
   "cell_type": "markdown",
   "id": "8da0b1b9",
   "metadata": {},
   "source": [
    "Agora podemos evocar a função que que irá processar o ficheiro, correndo o bloco de código seguinte."
   ]
  },
  {
   "cell_type": "code",
   "execution_count": 5,
   "id": "781cbc0f",
   "metadata": {},
   "outputs": [
    {
     "name": "stderr",
     "output_type": "stream",
     "text": [
      "CRITICAL:root:There was a problem reading input.meu. The XML Parser returned File was not found\n",
      "CRITICAL:root:Error during massaging input.meu\n"
     ]
    },
    {
     "name": "stdout",
     "output_type": "stream",
     "text": [
      "Ficheiro massajado com sucesso.\n"
     ]
    }
   ],
   "source": [
    "from massage_mei import massage_mei\n",
    "\n",
    "massage_mei(filename_in, filename_out)"
   ]
  },
  {
   "cell_type": "markdown",
   "id": "32d9206e",
   "metadata": {},
   "source": [
    "Podemos verificar que foi criado um ficheiro, na barra lateral esquerda, com o nome de output que inserimos.\n",
    "Para fazer download desse ficheiro, clique com o botão direito do rato por cima do mesmo, e clique na opção de `Download`."
   ]
  }
 ],
 "metadata": {
  "kernelspec": {
   "display_name": "Python 3 (ipykernel)",
   "language": "python",
   "name": "python3"
  },
  "language_info": {
   "codemirror_mode": {
    "name": "ipython",
    "version": 3
   },
   "file_extension": ".py",
   "mimetype": "text/x-python",
   "name": "python",
   "nbconvert_exporter": "python",
   "pygments_lexer": "ipython3",
   "version": "3.8.10"
  }
 },
 "nbformat": 4,
 "nbformat_minor": 5
}
